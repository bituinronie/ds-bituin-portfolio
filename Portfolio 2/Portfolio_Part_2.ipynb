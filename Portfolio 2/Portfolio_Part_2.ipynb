{
 "cells": [
  {
   "cell_type": "markdown",
   "metadata": {},
   "source": [
    "## Analysis of Epinions Dataset Part 2"
   ]
  },
  {
   "cell_type": "markdown",
   "metadata": {},
   "source": [
    "The goal of the second analysis task is to train linear regression models to predict users' ratings towards items. This involves a standard Data Science workflow: exploring data, building models, making predictions, and evaluating results. In this task, we will explore the impacts of feature selections and different sizes of training/testing data on the model performance. We will use another cleaned Epinions sub-dataset that is different from the one in Portfolio 1. "
   ]
  },
  {
   "cell_type": "markdown",
   "metadata": {},
   "source": [
    "### Import Cleaned Epinions Dataset\n",
    "The csv file named 'Epinions_cleaned_data_portfolio_2.csv'is provided. Please import the csv file (i.e., 'Epinions_cleaned_data_portfolio_2') and print out its total length."
   ]
  },
  {
   "cell_type": "code",
   "execution_count": 1,
   "metadata": {},
   "outputs": [],
   "source": [
    "# your code and solution\n",
    "#import libraries\n",
    "import pandas as pd\n",
    "import numpy as np\n",
    "import matplotlib.pyplot as plt\n",
    "%matplotlib inline\n",
    "\n",
    "import seaborn as sns"
   ]
  },
  {
   "cell_type": "code",
   "execution_count": 2,
   "id": "d9b48bc3",
   "metadata": {},
   "outputs": [
    {
     "data": {
      "text/plain": [
       "2899"
      ]
     },
     "execution_count": 2,
     "metadata": {},
     "output_type": "execute_result"
    }
   ],
   "source": [
    "epinions = 'data/Epinions_cleaned_data_portfolio_2.csv'\n",
    "epinionsDF = pd.read_csv(epinions)\n",
    "#print total length\n",
    "len(epinionsDF)"
   ]
  },
  {
   "cell_type": "markdown",
   "id": "ab158b29",
   "metadata": {},
   "source": [
    "The total length according to the output above is: 2899"
   ]
  },
  {
   "cell_type": "markdown",
   "metadata": {},
   "source": [
    "### Explore the Dataset\n",
    "\n",
    "* Use the methods, i.e., `head()` and `info()`, to have a rough picture about the data, e.g., how many columns, and the data types of each column. \n",
    "* As our goal is to predict ratings given other columns, please get the correlations between helpfulness/gender/category/review and rating by using the `corr()` method.\n",
    "* To get the correlations between different features, you may need to first convert the categorical features (i.e., gender, category and review) into numerial values. For doing this, you may need to import `OrdinalEncoder` from `sklearn.preprocessing` (refer to the useful exmaples [here](https://pbpython.com/categorical-encoding.html))\n",
    "* Please provide ___necessary explanations/analysis___ on the correlations, and figure out which are the ___most___ and ___least___ corrleated features regarding rating (positive or negative). Try to ___discuss___ how the correlation will affect the final prediction results, if we use these features to train a regression model for rating prediction. In what follows, we will conduct experiments to verify your hypothesis."
   ]
  },
  {
   "cell_type": "markdown",
   "id": "68e4d9e8",
   "metadata": {},
   "source": [
    "use <em>`.head`</em> to quickly get the grasp of the data. Like getting the surface info of what to expect you would get of the dataframe."
   ]
  },
  {
   "cell_type": "code",
   "execution_count": 3,
   "metadata": {},
   "outputs": [
    {
     "data": {
      "text/html": [
       "<div>\n",
       "<style scoped>\n",
       "    .dataframe tbody tr th:only-of-type {\n",
       "        vertical-align: middle;\n",
       "    }\n",
       "\n",
       "    .dataframe tbody tr th {\n",
       "        vertical-align: top;\n",
       "    }\n",
       "\n",
       "    .dataframe thead th {\n",
       "        text-align: right;\n",
       "    }\n",
       "</style>\n",
       "<table border=\"1\" class=\"dataframe\">\n",
       "  <thead>\n",
       "    <tr style=\"text-align: right;\">\n",
       "      <th></th>\n",
       "      <th>userId</th>\n",
       "      <th>timestamp</th>\n",
       "      <th>review</th>\n",
       "      <th>item</th>\n",
       "      <th>rating</th>\n",
       "      <th>helpfulness</th>\n",
       "      <th>gender</th>\n",
       "      <th>category</th>\n",
       "    </tr>\n",
       "  </thead>\n",
       "  <tbody>\n",
       "    <tr>\n",
       "      <th>0</th>\n",
       "      <td>4259</td>\n",
       "      <td>11900</td>\n",
       "      <td>Finally, Something for (Relatively) Nothing</td>\n",
       "      <td>MyPoints.com</td>\n",
       "      <td>4.0</td>\n",
       "      <td>4.0</td>\n",
       "      <td>F</td>\n",
       "      <td>Online Stores &amp; Services</td>\n",
       "    </tr>\n",
       "    <tr>\n",
       "      <th>1</th>\n",
       "      <td>4259</td>\n",
       "      <td>12000</td>\n",
       "      <td>Shocking!</td>\n",
       "      <td>Sixth Sense</td>\n",
       "      <td>5.0</td>\n",
       "      <td>4.0</td>\n",
       "      <td>F</td>\n",
       "      <td>Movies</td>\n",
       "    </tr>\n",
       "    <tr>\n",
       "      <th>2</th>\n",
       "      <td>4259</td>\n",
       "      <td>12000</td>\n",
       "      <td>Simply Shaggadelic!</td>\n",
       "      <td>Austin Powers: The Spy Who Shagged Me</td>\n",
       "      <td>5.0</td>\n",
       "      <td>4.0</td>\n",
       "      <td>F</td>\n",
       "      <td>Movies</td>\n",
       "    </tr>\n",
       "    <tr>\n",
       "      <th>3</th>\n",
       "      <td>4259</td>\n",
       "      <td>12000</td>\n",
       "      <td>Better Than The First!</td>\n",
       "      <td>Toy Story 2</td>\n",
       "      <td>5.0</td>\n",
       "      <td>3.0</td>\n",
       "      <td>F</td>\n",
       "      <td>Movies</td>\n",
       "    </tr>\n",
       "    <tr>\n",
       "      <th>4</th>\n",
       "      <td>4259</td>\n",
       "      <td>12000</td>\n",
       "      <td>Blair Witch made me appreciate this</td>\n",
       "      <td>Star Wars Episode I: The Phantom Menace</td>\n",
       "      <td>2.0</td>\n",
       "      <td>4.0</td>\n",
       "      <td>F</td>\n",
       "      <td>Movies</td>\n",
       "    </tr>\n",
       "  </tbody>\n",
       "</table>\n",
       "</div>"
      ],
      "text/plain": [
       "   userId  timestamp                                       review  \\\n",
       "0    4259      11900  Finally, Something for (Relatively) Nothing   \n",
       "1    4259      12000                                    Shocking!   \n",
       "2    4259      12000                          Simply Shaggadelic!   \n",
       "3    4259      12000                       Better Than The First!   \n",
       "4    4259      12000          Blair Witch made me appreciate this   \n",
       "\n",
       "                                      item  rating  helpfulness gender  \\\n",
       "0                             MyPoints.com     4.0          4.0      F   \n",
       "1                              Sixth Sense     5.0          4.0      F   \n",
       "2    Austin Powers: The Spy Who Shagged Me     5.0          4.0      F   \n",
       "3                              Toy Story 2     5.0          3.0      F   \n",
       "4  Star Wars Episode I: The Phantom Menace     2.0          4.0      F   \n",
       "\n",
       "                   category  \n",
       "0  Online Stores & Services  \n",
       "1                    Movies  \n",
       "2                    Movies  \n",
       "3                    Movies  \n",
       "4                    Movies  "
      ]
     },
     "execution_count": 3,
     "metadata": {},
     "output_type": "execute_result"
    }
   ],
   "source": [
    "# your code and solution\n",
    "epinionsDF.head()"
   ]
  },
  {
   "cell_type": "markdown",
   "id": "173b8bdf",
   "metadata": {},
   "source": [
    "use <em>`.info`</em> on the other hand to get the Dtype, count number of nulls and the column names of the dataframe."
   ]
  },
  {
   "cell_type": "code",
   "execution_count": 4,
   "id": "b996bfcb",
   "metadata": {},
   "outputs": [
    {
     "name": "stdout",
     "output_type": "stream",
     "text": [
      "<class 'pandas.core.frame.DataFrame'>\n",
      "RangeIndex: 2899 entries, 0 to 2898\n",
      "Data columns (total 8 columns):\n",
      " #   Column       Non-Null Count  Dtype  \n",
      "---  ------       --------------  -----  \n",
      " 0   userId       2899 non-null   int64  \n",
      " 1   timestamp    2899 non-null   int64  \n",
      " 2   review       2899 non-null   object \n",
      " 3   item         2899 non-null   object \n",
      " 4   rating       2899 non-null   float64\n",
      " 5   helpfulness  2899 non-null   float64\n",
      " 6   gender       2899 non-null   object \n",
      " 7   category     2899 non-null   object \n",
      "dtypes: float64(2), int64(2), object(4)\n",
      "memory usage: 181.3+ KB\n"
     ]
    }
   ],
   "source": [
    "epinionsDF.info()"
   ]
  },
  {
   "cell_type": "code",
   "execution_count": 5,
   "id": "f8742949",
   "metadata": {},
   "outputs": [
    {
     "data": {
      "text/html": [
       "<div>\n",
       "<style scoped>\n",
       "    .dataframe tbody tr th:only-of-type {\n",
       "        vertical-align: middle;\n",
       "    }\n",
       "\n",
       "    .dataframe tbody tr th {\n",
       "        vertical-align: top;\n",
       "    }\n",
       "\n",
       "    .dataframe thead th {\n",
       "        text-align: right;\n",
       "    }\n",
       "</style>\n",
       "<table border=\"1\" class=\"dataframe\">\n",
       "  <thead>\n",
       "    <tr style=\"text-align: right;\">\n",
       "      <th></th>\n",
       "      <th>userId</th>\n",
       "      <th>timestamp</th>\n",
       "      <th>rating</th>\n",
       "      <th>helpfulness</th>\n",
       "    </tr>\n",
       "  </thead>\n",
       "  <tbody>\n",
       "    <tr>\n",
       "      <th>userId</th>\n",
       "      <td>1.000000</td>\n",
       "      <td>-0.036399</td>\n",
       "      <td>0.008164</td>\n",
       "      <td>-0.016841</td>\n",
       "    </tr>\n",
       "    <tr>\n",
       "      <th>timestamp</th>\n",
       "      <td>-0.036399</td>\n",
       "      <td>1.000000</td>\n",
       "      <td>0.019860</td>\n",
       "      <td>0.003638</td>\n",
       "    </tr>\n",
       "    <tr>\n",
       "      <th>rating</th>\n",
       "      <td>0.008164</td>\n",
       "      <td>0.019860</td>\n",
       "      <td>1.000000</td>\n",
       "      <td>-0.016832</td>\n",
       "    </tr>\n",
       "    <tr>\n",
       "      <th>helpfulness</th>\n",
       "      <td>-0.016841</td>\n",
       "      <td>0.003638</td>\n",
       "      <td>-0.016832</td>\n",
       "      <td>1.000000</td>\n",
       "    </tr>\n",
       "  </tbody>\n",
       "</table>\n",
       "</div>"
      ],
      "text/plain": [
       "               userId  timestamp    rating  helpfulness\n",
       "userId       1.000000  -0.036399  0.008164    -0.016841\n",
       "timestamp   -0.036399   1.000000  0.019860     0.003638\n",
       "rating       0.008164   0.019860  1.000000    -0.016832\n",
       "helpfulness -0.016841   0.003638 -0.016832     1.000000"
      ]
     },
     "execution_count": 5,
     "metadata": {},
     "output_type": "execute_result"
    }
   ],
   "source": [
    "epinionsDF.corr()"
   ]
  },
  {
   "cell_type": "code",
   "execution_count": 6,
   "id": "13b43849",
   "metadata": {},
   "outputs": [
    {
     "data": {
      "text/plain": [
       "userId         0\n",
       "timestamp      0\n",
       "review         0\n",
       "item           0\n",
       "rating         0\n",
       "helpfulness    0\n",
       "gender         0\n",
       "category       0\n",
       "dtype: int64"
      ]
     },
     "execution_count": 6,
     "metadata": {},
     "output_type": "execute_result"
    }
   ],
   "source": [
    "epinionsDF.isnull().sum()"
   ]
  },
  {
   "cell_type": "markdown",
   "id": "b07b1f72",
   "metadata": {},
   "source": [
    "so far, we don't have a null values in our row per category. This is a good start."
   ]
  },
  {
   "cell_type": "markdown",
   "id": "e17ffc3e",
   "metadata": {},
   "source": [
    "Below, we will be using ordinal encoder using sklearn library"
   ]
  },
  {
   "cell_type": "code",
   "execution_count": 7,
   "id": "e24cf60f",
   "metadata": {},
   "outputs": [
    {
     "data": {
      "text/html": [
       "<div>\n",
       "<style scoped>\n",
       "    .dataframe tbody tr th:only-of-type {\n",
       "        vertical-align: middle;\n",
       "    }\n",
       "\n",
       "    .dataframe tbody tr th {\n",
       "        vertical-align: top;\n",
       "    }\n",
       "\n",
       "    .dataframe thead th {\n",
       "        text-align: right;\n",
       "    }\n",
       "</style>\n",
       "<table border=\"1\" class=\"dataframe\">\n",
       "  <thead>\n",
       "    <tr style=\"text-align: right;\">\n",
       "      <th></th>\n",
       "      <th>userId</th>\n",
       "      <th>timestamp</th>\n",
       "      <th>review</th>\n",
       "      <th>item</th>\n",
       "      <th>rating</th>\n",
       "      <th>helpfulness</th>\n",
       "      <th>gender</th>\n",
       "      <th>category</th>\n",
       "    </tr>\n",
       "  </thead>\n",
       "  <tbody>\n",
       "    <tr>\n",
       "      <th>0</th>\n",
       "      <td>4259</td>\n",
       "      <td>11900</td>\n",
       "      <td>Finally, Something for (Relatively) Nothing</td>\n",
       "      <td>43.0</td>\n",
       "      <td>4.0</td>\n",
       "      <td>4.0</td>\n",
       "      <td>0.0</td>\n",
       "      <td>6.0</td>\n",
       "    </tr>\n",
       "    <tr>\n",
       "      <th>1</th>\n",
       "      <td>4259</td>\n",
       "      <td>12000</td>\n",
       "      <td>Shocking!</td>\n",
       "      <td>62.0</td>\n",
       "      <td>5.0</td>\n",
       "      <td>4.0</td>\n",
       "      <td>0.0</td>\n",
       "      <td>5.0</td>\n",
       "    </tr>\n",
       "    <tr>\n",
       "      <th>2</th>\n",
       "      <td>4259</td>\n",
       "      <td>12000</td>\n",
       "      <td>Simply Shaggadelic!</td>\n",
       "      <td>9.0</td>\n",
       "      <td>5.0</td>\n",
       "      <td>4.0</td>\n",
       "      <td>0.0</td>\n",
       "      <td>5.0</td>\n",
       "    </tr>\n",
       "    <tr>\n",
       "      <th>3</th>\n",
       "      <td>4259</td>\n",
       "      <td>12000</td>\n",
       "      <td>Better Than The First!</td>\n",
       "      <td>77.0</td>\n",
       "      <td>5.0</td>\n",
       "      <td>3.0</td>\n",
       "      <td>0.0</td>\n",
       "      <td>5.0</td>\n",
       "    </tr>\n",
       "    <tr>\n",
       "      <th>4</th>\n",
       "      <td>4259</td>\n",
       "      <td>12000</td>\n",
       "      <td>Blair Witch made me appreciate this</td>\n",
       "      <td>68.0</td>\n",
       "      <td>2.0</td>\n",
       "      <td>4.0</td>\n",
       "      <td>0.0</td>\n",
       "      <td>5.0</td>\n",
       "    </tr>\n",
       "    <tr>\n",
       "      <th>...</th>\n",
       "      <td>...</td>\n",
       "      <td>...</td>\n",
       "      <td>...</td>\n",
       "      <td>...</td>\n",
       "      <td>...</td>\n",
       "      <td>...</td>\n",
       "      <td>...</td>\n",
       "      <td>...</td>\n",
       "    </tr>\n",
       "    <tr>\n",
       "      <th>2894</th>\n",
       "      <td>10815</td>\n",
       "      <td>112799</td>\n",
       "      <td>I dare you to sleep through this soon to be cl...</td>\n",
       "      <td>63.0</td>\n",
       "      <td>5.0</td>\n",
       "      <td>4.0</td>\n",
       "      <td>0.0</td>\n",
       "      <td>5.0</td>\n",
       "    </tr>\n",
       "    <tr>\n",
       "      <th>2895</th>\n",
       "      <td>10815</td>\n",
       "      <td>121299</td>\n",
       "      <td>Another movie to keep us out of the water!!!!</td>\n",
       "      <td>19.0</td>\n",
       "      <td>5.0</td>\n",
       "      <td>3.0</td>\n",
       "      <td>0.0</td>\n",
       "      <td>5.0</td>\n",
       "    </tr>\n",
       "    <tr>\n",
       "      <th>2896</th>\n",
       "      <td>10815</td>\n",
       "      <td>121399</td>\n",
       "      <td>Miles above other films.</td>\n",
       "      <td>33.0</td>\n",
       "      <td>5.0</td>\n",
       "      <td>4.0</td>\n",
       "      <td>0.0</td>\n",
       "      <td>5.0</td>\n",
       "    </tr>\n",
       "    <tr>\n",
       "      <th>2897</th>\n",
       "      <td>10815</td>\n",
       "      <td>121499</td>\n",
       "      <td>This could be the beginning of a comedy era.</td>\n",
       "      <td>9.0</td>\n",
       "      <td>3.0</td>\n",
       "      <td>4.0</td>\n",
       "      <td>0.0</td>\n",
       "      <td>5.0</td>\n",
       "    </tr>\n",
       "    <tr>\n",
       "      <th>2898</th>\n",
       "      <td>10815</td>\n",
       "      <td>121499</td>\n",
       "      <td>Maybe it should have been cut?</td>\n",
       "      <td>65.0</td>\n",
       "      <td>3.0</td>\n",
       "      <td>4.0</td>\n",
       "      <td>0.0</td>\n",
       "      <td>5.0</td>\n",
       "    </tr>\n",
       "  </tbody>\n",
       "</table>\n",
       "<p>2899 rows × 8 columns</p>\n",
       "</div>"
      ],
      "text/plain": [
       "      userId  timestamp                                             review  \\\n",
       "0       4259      11900        Finally, Something for (Relatively) Nothing   \n",
       "1       4259      12000                                          Shocking!   \n",
       "2       4259      12000                                Simply Shaggadelic!   \n",
       "3       4259      12000                             Better Than The First!   \n",
       "4       4259      12000                Blair Witch made me appreciate this   \n",
       "...      ...        ...                                                ...   \n",
       "2894   10815     112799  I dare you to sleep through this soon to be cl...   \n",
       "2895   10815     121299      Another movie to keep us out of the water!!!!   \n",
       "2896   10815     121399                           Miles above other films.   \n",
       "2897   10815     121499       This could be the beginning of a comedy era.   \n",
       "2898   10815     121499                     Maybe it should have been cut?   \n",
       "\n",
       "      item  rating  helpfulness  gender  category  \n",
       "0     43.0     4.0          4.0     0.0       6.0  \n",
       "1     62.0     5.0          4.0     0.0       5.0  \n",
       "2      9.0     5.0          4.0     0.0       5.0  \n",
       "3     77.0     5.0          3.0     0.0       5.0  \n",
       "4     68.0     2.0          4.0     0.0       5.0  \n",
       "...    ...     ...          ...     ...       ...  \n",
       "2894  63.0     5.0          4.0     0.0       5.0  \n",
       "2895  19.0     5.0          3.0     0.0       5.0  \n",
       "2896  33.0     5.0          4.0     0.0       5.0  \n",
       "2897   9.0     3.0          4.0     0.0       5.0  \n",
       "2898  65.0     3.0          4.0     0.0       5.0  \n",
       "\n",
       "[2899 rows x 8 columns]"
      ]
     },
     "execution_count": 7,
     "metadata": {},
     "output_type": "execute_result"
    }
   ],
   "source": [
    "from sklearn.preprocessing import OrdinalEncoder\n",
    "epinionsEncodeDF = epinionsDF.copy()\n",
    "enc = OrdinalEncoder()\n",
    "\n",
    "epinionsEncodeDF[[\"category\",\"gender\", \"item\"]] = enc.fit_transform(epinionsEncodeDF[[\"category\",\"gender\", \"item\"]])\n",
    "epinionsEncodeDF"
   ]
  },
  {
   "cell_type": "markdown",
   "id": "1de8ddf0",
   "metadata": {},
   "source": [
    "as seen in the table above, the columns are now encoded into ordinal values"
   ]
  },
  {
   "cell_type": "code",
   "execution_count": 8,
   "id": "61c8ae68",
   "metadata": {},
   "outputs": [],
   "source": [
    "epinionsEncodeDF = epinionsEncodeDF.drop(['userId'], axis=1)"
   ]
  },
  {
   "cell_type": "markdown",
   "id": "36da021b",
   "metadata": {},
   "source": [
    "Dropping the `userID` index as it could definitely mess up the solution later on. As we are not predicting who bought this and that, and it may even affect the prediction later. Also, the samples are independent and identically distributed. We can use the timestamp tho for sequential analysis if there will be any"
   ]
  },
  {
   "cell_type": "code",
   "execution_count": 9,
   "id": "b6962fa9",
   "metadata": {},
   "outputs": [
    {
     "data": {
      "image/png": "[encoded data removed]",
      "text/plain": [
       "<Figure size 1000x700 with 2 Axes>"
      ]
     },
     "metadata": {},
     "output_type": "display_data"
    }
   ],
   "source": [
    "plt.figure(figsize=(10,7))\n",
    "ax = sns.heatmap(epinionsEncodeDF.corr(),\n",
    "annot=True, cmap=\"coolwarm\")"
   ]
  },
  {
   "cell_type": "markdown",
   "id": "bab9788c",
   "metadata": {},
   "source": [
    "Explanation:\n",
    "Currently, Category and Timestamp is the related feature to rating. As rating goes up, there is a positive effect in the timestamp while there is negative effect to category when rating goes upward."
   ]
  },
  {
   "cell_type": "code",
   "execution_count": 10,
   "id": "3bf09f4a",
   "metadata": {},
   "outputs": [
    {
     "data": {
      "text/html": [
       "<div>\n",
       "<style scoped>\n",
       "    .dataframe tbody tr th:only-of-type {\n",
       "        vertical-align: middle;\n",
       "    }\n",
       "\n",
       "    .dataframe tbody tr th {\n",
       "        vertical-align: top;\n",
       "    }\n",
       "\n",
       "    .dataframe thead th {\n",
       "        text-align: right;\n",
       "    }\n",
       "</style>\n",
       "<table border=\"1\" class=\"dataframe\">\n",
       "  <thead>\n",
       "    <tr style=\"text-align: right;\">\n",
       "      <th></th>\n",
       "      <th>timestamp</th>\n",
       "      <th>item</th>\n",
       "      <th>rating</th>\n",
       "      <th>helpfulness</th>\n",
       "      <th>gender</th>\n",
       "      <th>category</th>\n",
       "    </tr>\n",
       "  </thead>\n",
       "  <tbody>\n",
       "    <tr>\n",
       "      <th>timestamp</th>\n",
       "      <td>1.000000</td>\n",
       "      <td>0.024337</td>\n",
       "      <td>0.019860</td>\n",
       "      <td>0.003638</td>\n",
       "      <td>-0.049244</td>\n",
       "      <td>0.037118</td>\n",
       "    </tr>\n",
       "    <tr>\n",
       "      <th>item</th>\n",
       "      <td>0.024337</td>\n",
       "      <td>1.000000</td>\n",
       "      <td>0.004414</td>\n",
       "      <td>-0.010780</td>\n",
       "      <td>0.006231</td>\n",
       "      <td>-0.054699</td>\n",
       "    </tr>\n",
       "    <tr>\n",
       "      <th>rating</th>\n",
       "      <td>0.019860</td>\n",
       "      <td>0.004414</td>\n",
       "      <td>1.000000</td>\n",
       "      <td>-0.016832</td>\n",
       "      <td>0.018105</td>\n",
       "      <td>-0.140576</td>\n",
       "    </tr>\n",
       "    <tr>\n",
       "      <th>helpfulness</th>\n",
       "      <td>0.003638</td>\n",
       "      <td>-0.010780</td>\n",
       "      <td>-0.016832</td>\n",
       "      <td>1.000000</td>\n",
       "      <td>-0.046627</td>\n",
       "      <td>-0.000189</td>\n",
       "    </tr>\n",
       "    <tr>\n",
       "      <th>gender</th>\n",
       "      <td>-0.049244</td>\n",
       "      <td>0.006231</td>\n",
       "      <td>0.018105</td>\n",
       "      <td>-0.046627</td>\n",
       "      <td>1.000000</td>\n",
       "      <td>-0.017644</td>\n",
       "    </tr>\n",
       "    <tr>\n",
       "      <th>category</th>\n",
       "      <td>0.037118</td>\n",
       "      <td>-0.054699</td>\n",
       "      <td>-0.140576</td>\n",
       "      <td>-0.000189</td>\n",
       "      <td>-0.017644</td>\n",
       "      <td>1.000000</td>\n",
       "    </tr>\n",
       "  </tbody>\n",
       "</table>\n",
       "</div>"
      ],
      "text/plain": [
       "             timestamp      item    rating  helpfulness    gender  category\n",
       "timestamp     1.000000  0.024337  0.019860     0.003638 -0.049244  0.037118\n",
       "item          0.024337  1.000000  0.004414    -0.010780  0.006231 -0.054699\n",
       "rating        0.019860  0.004414  1.000000    -0.016832  0.018105 -0.140576\n",
       "helpfulness   0.003638 -0.010780 -0.016832     1.000000 -0.046627 -0.000189\n",
       "gender       -0.049244  0.006231  0.018105    -0.046627  1.000000 -0.017644\n",
       "category      0.037118 -0.054699 -0.140576    -0.000189 -0.017644  1.000000"
      ]
     },
     "execution_count": 10,
     "metadata": {},
     "output_type": "execute_result"
    }
   ],
   "source": [
    "epinionsEncodeDF.corr()"
   ]
  },
  {
   "cell_type": "markdown",
   "metadata": {},
   "source": [
    "### Split Training and Testing Data\n",
    "* Machine learning models are trained to help make predictions for the future. Normally, we need to randomly split the dataset into training and testing sets, where we use the training set to train the model, and then leverage the well-trained model to make predictions on the testing set. \n",
    "* To further investigate whether the size of the training/testing data affects the model performance, please random split the data into training and testing sets with different sizes:\n",
    "    * Case 1: training data containing 10% of the entire data;\n",
    "    * Case 2: training data containing 90% of the entire data. \n",
    "* Print the shape of training and testing sets in the two cases. "
   ]
  },
  {
   "cell_type": "markdown",
   "id": "d8df8303",
   "metadata": {},
   "source": [
    "<b>Note</b>: We also define random_state which corresponds to the seed, so that results are reproducible.\n",
    "<br>We can also use the sklearn train_split_test but we'll use the code below for the meantime."
   ]
  },
  {
   "cell_type": "code",
   "execution_count": 11,
   "metadata": {},
   "outputs": [
    {
     "name": "stdout",
     "output_type": "stream",
     "text": [
      "Case 1:\n",
      "No. of training examples: 290\n",
      "No. of testing examples: 2609\n",
      "Case 2:\n",
      "No. of training examples: 2609\n",
      "No. of testing examples: 290\n"
     ]
    }
   ],
   "source": [
    "# your code and solution\n",
    "#case 1\n",
    "print('Case 1:')\n",
    "case1TrainingData = epinionsEncodeDF.sample(frac=0.1, random_state=42)\n",
    "case1TestingData = epinionsEncodeDF.drop(case1TrainingData.index)\n",
    "print(f\"No. of training examples: {case1TrainingData.shape[0]}\")\n",
    "print(f\"No. of testing examples: {case1TestingData.shape[0]}\")\n",
    "\n",
    "\n",
    "#case 2\n",
    "print('Case 2:')\n",
    "case2TrainingData = epinionsEncodeDF.sample(frac=0.9, random_state=42)\n",
    "case2TestingData = epinionsEncodeDF.drop(case2TrainingData.index)\n",
    "print(f\"No. of training examples: {case2TrainingData.shape[0]}\")\n",
    "print(f\"No. of testing examples: {case2TestingData.shape[0]}\")\n"
   ]
  },
  {
   "cell_type": "markdown",
   "metadata": {},
   "source": [
    "### Train Linear Regression Models with Feature Selection under Cases 1 & 2\n",
    "* When training a machine learning model for prediction, we may need to select the most important/correlated input features for more accurate results. \n",
    "* To investigate whether feature selection affects the model performance, please select __two most correlated features and two least correlated features__ regarding rating, respectively. \n",
    "* Train __four__ linear regression models by following the conditions:\n",
    "    - (model-a) using the training/testing data in __case 1__ with __two most__ correlated input features\n",
    "    - (model-b) using the training/testing data in __case 1__ with __two least__ correlated input features\n",
    "    - (model-c) using the training/testing data in __case 2__ with __two most__ correlated input features\n",
    "    - (model-d) using the training/testing data in __case 2__ with __two least__ correlated input features\n",
    "* By doing this, we can verify the impacts of the size of traing/testing data on the model performance via comparing model-a and model-c (or model-b and model-d); meanwhile the impacts of feature selection can be validated via comparing model-a and model-b (or model-c and model-d).    "
   ]
  },
  {
   "cell_type": "code",
   "execution_count": 12,
   "id": "43799981",
   "metadata": {},
   "outputs": [],
   "source": [
    "#Case 1 - Model A\n",
    "#import library first\n",
    "from sklearn.linear_model import LinearRegression\n",
    "from sklearn.linear_model import LogisticRegression\n",
    "from sklearn.metrics import mean_absolute_error, mean_squared_error\n",
    "regressor = LinearRegression()\n",
    "# regressor = LogisticRegression()"
   ]
  },
  {
   "cell_type": "markdown",
   "id": "076ba3d9",
   "metadata": {},
   "source": [
    "For Case 1 Model A: based on the figure above, the closest feature that affects the rating is the category and the timestamp, so that one will be used."
   ]
  },
  {
   "cell_type": "code",
   "execution_count": 13,
   "id": "4dbb955c",
   "metadata": {},
   "outputs": [
    {
     "name": "stdout",
     "output_type": "stream",
     "text": [
      "Accuracy Score: 1.6717309453273765\n",
      "      Actual  Predicted\n",
      "0        4.0   3.488426\n",
      "1        5.0   3.566339\n",
      "2        5.0   3.566339\n",
      "3        5.0   3.566339\n",
      "4        2.0   3.566339\n",
      "...      ...        ...\n",
      "2604     1.0   3.687163\n",
      "2605     5.0   3.826810\n",
      "2606     5.0   3.827049\n",
      "2607     3.0   3.827287\n",
      "2608     3.0   3.827287\n",
      "\n",
      "[2609 rows x 2 columns]\n",
      "Mean absolute error: 1.12\n",
      "Mean squared error: 1.78\n",
      "Root mean squared error: 1.34\n"
     ]
    }
   ],
   "source": [
    "x_train = case1TrainingData[['category','timestamp']].values\n",
    "y_train = case1TrainingData['rating'].values\n",
    "x_test = case1TestingData[['category','timestamp']].values\n",
    "y_test = case1TestingData['rating'].values\n",
    "case1ModelA = regressor.fit(x_train, y_train)\n",
    "case1ModelAPrediction = case1ModelA.predict(x_test)\n",
    "score = case1ModelA.score(x_test, y_test)*100\n",
    "print(\"Accuracy Score:\", score)\n",
    "\n",
    "# check actual and predicted scores\n",
    "df_preds = pd.DataFrame({'Actual': y_test.squeeze(), 'Predicted': case1ModelAPrediction.squeeze()})\n",
    "print(df_preds)\n",
    "\n",
    "# Evaluation\n",
    "case1AMae = mean_absolute_error(y_test, case1ModelAPrediction)\n",
    "case1AMsE = mean_squared_error(y_test, case1ModelAPrediction)\n",
    "case1ARmse = np.sqrt(case1AMsE)\n",
    "print(f'Mean absolute error: {case1AMae:.2f}')\n",
    "print(f'Mean squared error: {case1AMsE:.2f}')\n",
    "print(f'Root mean squared error: {case1ARmse:.2f}')"
   ]
  },
  {
   "cell_type": "markdown",
   "id": "b9e73b21",
   "metadata": {},
   "source": [
    "For Case 1 Model B: based on the figure above, the fartheset feature that affects the rating is the helpfullness and the item, so that one will be used."
   ]
  },
  {
   "cell_type": "code",
   "execution_count": 14,
   "id": "4f610709",
   "metadata": {},
   "outputs": [
    {
     "name": "stdout",
     "output_type": "stream",
     "text": [
      "Accuracy Score: -0.0009857211960895285\n",
      "      Actual  Predicted\n",
      "0        4.0   3.650808\n",
      "1        5.0   3.647838\n",
      "2        5.0   3.656122\n",
      "3        5.0   3.764837\n",
      "4        2.0   3.646900\n",
      "...      ...        ...\n",
      "2604     1.0   3.776091\n",
      "2605     5.0   3.773903\n",
      "2606     5.0   3.652371\n",
      "2607     3.0   3.656122\n",
      "2608     3.0   3.647369\n",
      "\n",
      "[2609 rows x 2 columns]\n",
      "Mean absolute error: 1.14\n",
      "Mean squared error: 1.81\n",
      "Root mean squared error: 1.35\n"
     ]
    }
   ],
   "source": [
    "#Case 1 - Model B\n",
    "x_train = case1TrainingData[['helpfulness','item']].values\n",
    "y_train = case1TrainingData['rating'].values\n",
    "x_test = case1TestingData[['helpfulness','item']].values\n",
    "y_test = case1TestingData['rating'].values\n",
    "case1ModelB = regressor.fit(x_train, y_train)\n",
    "case1ModelBPrediction = case1ModelB.predict(x_test)\n",
    "score = case1ModelB.score(x_test, y_test)*100\n",
    "print(\"Accuracy Score:\", score)\n",
    "\n",
    "# check actual and predicted scores\n",
    "df_preds = pd.DataFrame({'Actual': y_test.squeeze(), 'Predicted': case1ModelBPrediction.squeeze()})\n",
    "print(df_preds)\n",
    "\n",
    "# Evaluation\n",
    "case1BMae = mean_absolute_error(y_test, case1ModelBPrediction)\n",
    "case1BMsE = mean_squared_error(y_test, case1ModelBPrediction)\n",
    "case1BRmse = np.sqrt(case1BMsE)\n",
    "print(f'Mean absolute error: {case1BMae:.2f}')\n",
    "print(f'Mean squared error: {case1BMsE:.2f}')\n",
    "print(f'Root mean squared error: {case1BRmse:.2f}')"
   ]
  },
  {
   "cell_type": "markdown",
   "id": "84d75fff",
   "metadata": {},
   "source": [
    "For Case 2 Model A: based on the figure above, the farthest feature that affects the rating is the category and the timestamp, so that one will be used."
   ]
  },
  {
   "cell_type": "code",
   "execution_count": 15,
   "id": "e7e62297",
   "metadata": {},
   "outputs": [
    {
     "name": "stdout",
     "output_type": "stream",
     "text": [
      "Accuracy Score: 0.6751356215080495\n",
      "     Actual  Predicted\n",
      "0       5.0   3.649800\n",
      "1       3.0   3.710800\n",
      "2       5.0   3.711548\n",
      "3       4.0   3.677092\n",
      "4       5.0   3.531554\n",
      "..      ...        ...\n",
      "285     1.0   3.919657\n",
      "286     1.0   3.684052\n",
      "287     5.0   3.697902\n",
      "288     5.0   4.045135\n",
      "289     1.0   3.531213\n",
      "\n",
      "[290 rows x 2 columns]\n",
      "Mean absolute error: 1.14\n",
      "Mean squared error: 1.86\n",
      "Root mean squared error: 1.36\n"
     ]
    }
   ],
   "source": [
    "#Case 2 - Model A\n",
    "x_train = case2TrainingData[['category','timestamp']].values\n",
    "y_train = case2TrainingData['rating'].values\n",
    "x_test = case2TestingData[['category','timestamp']].values\n",
    "y_test = case2TestingData['rating'].values\n",
    "case2ModelA = regressor.fit(x_train, y_train)\n",
    "case2ModelAPrediction = case2ModelA.predict(x_test)\n",
    "score = case2ModelA.score(x_test, y_test)*100\n",
    "print(\"Accuracy Score:\", score)\n",
    "\n",
    "# check actual and predicted scores\n",
    "df_preds = pd.DataFrame({'Actual': y_test.squeeze(), 'Predicted': case2ModelAPrediction.squeeze()})\n",
    "print(df_preds)\n",
    "\n",
    "# Evaluation\n",
    "case2AMae = mean_absolute_error(y_test, case2ModelAPrediction)\n",
    "case2AMsE = mean_squared_error(y_test, case2ModelAPrediction)\n",
    "case2ARmse = np.sqrt(case2AMsE)\n",
    "print(f'Mean absolute error: {case2AMae:.2f}')\n",
    "print(f'Mean squared error: {case2AMsE:.2f}')\n",
    "print(f'Root mean squared error: {case2ARmse:.2f}')"
   ]
  },
  {
   "cell_type": "markdown",
   "id": "8b594f30",
   "metadata": {},
   "source": [
    "For Case 2 Model B: based on the figure above, the farthest feature that affects the rating is the helpfulness and the item, so that one will be used."
   ]
  },
  {
   "cell_type": "code",
   "execution_count": 16,
   "id": "ed978481",
   "metadata": {},
   "outputs": [
    {
     "name": "stdout",
     "output_type": "stream",
     "text": [
      "Accuracy Score: -0.1936768731393812\n",
      "     Actual  Predicted\n",
      "0       5.0   3.678705\n",
      "1       3.0   3.689808\n",
      "2       5.0   3.689808\n",
      "3       4.0   3.660386\n",
      "4       5.0   3.720609\n",
      "..      ...        ...\n",
      "285     1.0   3.685922\n",
      "286     1.0   3.677040\n",
      "287     5.0   3.658721\n",
      "288     5.0   3.670378\n",
      "289     1.0   3.756691\n",
      "\n",
      "[290 rows x 2 columns]\n",
      "Mean absolute error: 1.15\n",
      "Mean squared error: 1.88\n",
      "Root mean squared error: 1.35\n"
     ]
    }
   ],
   "source": [
    "#Case 2 - Model B\n",
    "x_train = case2TrainingData[['helpfulness','item']].values\n",
    "y_train = case2TrainingData['rating'].values\n",
    "x_test = case2TestingData[['helpfulness','item']].values\n",
    "y_test = case2TestingData['rating'].values\n",
    "case2ModelB = regressor.fit(x_train, y_train)\n",
    "case2ModelBPrediction = case2ModelB.predict(x_test)\n",
    "score = case2ModelA.score(x_test, y_test)*100\n",
    "print(\"Accuracy Score:\", score)\n",
    "\n",
    "# check actual and predicted scores\n",
    "df_preds = pd.DataFrame({'Actual': y_test.squeeze(), 'Predicted': case2ModelBPrediction.squeeze()})\n",
    "print(df_preds)\n",
    "\n",
    "# Evaluation\n",
    "case2BMae = mean_absolute_error(y_test, case2ModelBPrediction)\n",
    "case2BMsE = mean_squared_error(y_test, case2ModelBPrediction)\n",
    "case2BRmse = np.sqrt(case1BMsE)\n",
    "print(f'Mean absolute error: {case2BMae:.2f}')\n",
    "print(f'Mean squared error: {case2BMsE:.2f}')\n",
    "print(f'Root mean squared error: {case2BRmse:.2f}')"
   ]
  },
  {
   "cell_type": "code",
   "execution_count": 17,
   "id": "0aae9703",
   "metadata": {},
   "outputs": [
    {
     "data": {
      "text/plain": [
       "0.01066312878072917"
      ]
     },
     "execution_count": 17,
     "metadata": {},
     "output_type": "execute_result"
    }
   ],
   "source": [
    "# using sklearn split\n",
    "from sklearn.model_selection import train_test_split\n",
    "x=epinionsEncodeDF.copy().drop(columns=['rating','review']).values\n",
    "y=epinionsEncodeDF['rating'].values\n",
    "epinionsEncodeDF\n",
    "x_train, x_test, y_train, y_test = train_test_split(x, y, test_size=0.1, random_state=25)\n",
    "train_test_split = regressor.fit(x_train, y_train)\n",
    "train_test_split.score(x_test, y_test)"
   ]
  },
  {
   "cell_type": "markdown",
   "metadata": {},
   "source": [
    "### Evaluate Models\n",
    "* Evaluate the performance of the four models with two metrics, including MSE and Root MSE\n",
    "* Print the results of the four models regarding the two metrics"
   ]
  },
  {
   "cell_type": "code",
   "execution_count": 18,
   "metadata": {},
   "outputs": [
    {
     "name": "stdout",
     "output_type": "stream",
     "text": [
      "Case 1 - Model A Evaluation: \n",
      "Mean absolute error: 1.12\n",
      "Mean squared error: 1.78\n",
      "Root mean squared error: 1.34\n",
      "\n",
      "Case 1 - Model B Evaluation: \n",
      "Mean absolute error: 1.14\n",
      "Mean squared error: 1.81\n",
      "Root mean squared error: 1.35\n",
      "\n",
      "Case 2 - Model A Evaluation: \n",
      "Mean absolute error: 1.14\n",
      "Mean squared error: 1.86\n",
      "Root mean squared error: 1.36\n",
      "\n",
      "Case 2 - Model B Evaluation: \n",
      "Mean absolute error: 1.15\n",
      "Mean squared error: 1.88\n",
      "Root mean squared error: 1.35\n"
     ]
    },
    {
     "data": {
      "text/html": [
       "<div>\n",
       "<style scoped>\n",
       "    .dataframe tbody tr th:only-of-type {\n",
       "        vertical-align: middle;\n",
       "    }\n",
       "\n",
       "    .dataframe tbody tr th {\n",
       "        vertical-align: top;\n",
       "    }\n",
       "\n",
       "    .dataframe thead th {\n",
       "        text-align: right;\n",
       "    }\n",
       "</style>\n",
       "<table border=\"1\" class=\"dataframe\">\n",
       "  <thead>\n",
       "    <tr style=\"text-align: right;\">\n",
       "      <th></th>\n",
       "      <th>Model</th>\n",
       "      <th>MAE</th>\n",
       "      <th>MSE</th>\n",
       "      <th>RME</th>\n",
       "    </tr>\n",
       "  </thead>\n",
       "  <tbody>\n",
       "    <tr>\n",
       "      <th>0</th>\n",
       "      <td>1A</td>\n",
       "      <td>1.124595</td>\n",
       "      <td>1.784589</td>\n",
       "      <td>1.335885</td>\n",
       "    </tr>\n",
       "    <tr>\n",
       "      <th>1</th>\n",
       "      <td>1B</td>\n",
       "      <td>1.140284</td>\n",
       "      <td>1.814947</td>\n",
       "      <td>1.335885</td>\n",
       "    </tr>\n",
       "    <tr>\n",
       "      <th>2</th>\n",
       "      <td>2A</td>\n",
       "      <td>1.136199</td>\n",
       "      <td>1.861556</td>\n",
       "      <td>1.364388</td>\n",
       "    </tr>\n",
       "    <tr>\n",
       "      <th>3</th>\n",
       "      <td>2B</td>\n",
       "      <td>1.152919</td>\n",
       "      <td>1.877839</td>\n",
       "      <td>1.347200</td>\n",
       "    </tr>\n",
       "  </tbody>\n",
       "</table>\n",
       "</div>"
      ],
      "text/plain": [
       "  Model       MAE       MSE       RME\n",
       "0    1A  1.124595  1.784589  1.335885\n",
       "1    1B  1.140284  1.814947  1.335885\n",
       "2    2A  1.136199  1.861556  1.364388\n",
       "3    2B  1.152919  1.877839  1.347200"
      ]
     },
     "execution_count": 18,
     "metadata": {},
     "output_type": "execute_result"
    }
   ],
   "source": [
    "# your code and solution\n",
    "# for case 1\n",
    "# Evaluation\n",
    "print('Case 1 - Model A Evaluation: ')\n",
    "print(f'Mean absolute error: {case1AMae:.2f}')\n",
    "print(f'Mean squared error: {case1AMsE:.2f}')\n",
    "print(f'Root mean squared error: {case1ARmse:.2f}')\n",
    "\n",
    "print('\\nCase 1 - Model B Evaluation: ')\n",
    "print(f'Mean absolute error: {case1BMae:.2f}')\n",
    "print(f'Mean squared error: {case1BMsE:.2f}')\n",
    "print(f'Root mean squared error: {case1BRmse:.2f}')\n",
    "\n",
    "print('\\nCase 2 - Model A Evaluation: ')\n",
    "print(f'Mean absolute error: {case2AMae:.2f}')\n",
    "print(f'Mean squared error: {case2AMsE:.2f}')\n",
    "print(f'Root mean squared error: {case2ARmse:.2f}')\n",
    "\n",
    "print('\\nCase 2 - Model B Evaluation: ')\n",
    "print(f'Mean absolute error: {case2BMae:.2f}')\n",
    "print(f'Mean squared error: {case2BMsE:.2f}')\n",
    "print(f'Root mean squared error: {case2BRmse:.2f}')\n",
    "\n",
    "\n",
    "data = {'Model' : ['1A', '1B', '2A', '2B'], 'MAE': [case1AMae, case1BMae, case2AMae, case2BMae], 'MSE' : [case1AMsE, case1BMsE, case2AMsE, case2BMsE], 'RME': [case1ARmse, case1ARmse, case2ARmse, case2BRmse]}\n",
    "evalDF = pd.DataFrame(data)\n",
    "# check evalDF\n",
    "evalDF"
   ]
  },
  {
   "cell_type": "markdown",
   "metadata": {},
   "source": [
    "### Visualize, Compare and Analyze the Results\n",
    "* Visulize the results, and perform ___insightful analysis___ on the obtained results. For better visualization, you may need to carefully set the scale for the y-axis.\n",
    "* Normally, the model trained with most correlated features and more training data will get better results. Do you obtain the similar observations? If not, please ___explain the possible reasons___."
   ]
  },
  {
   "cell_type": "code",
   "execution_count": 19,
   "id": "42f79767",
   "metadata": {},
   "outputs": [
    {
     "data": {
      "text/plain": [
       "<AxesSubplot:xlabel='Model'>"
      ]
     },
     "execution_count": 19,
     "metadata": {},
     "output_type": "execute_result"
    },
    {
     "data": {
      "image/png": "[encoded data removed]",
      "text/plain": [
       "<Figure size 640x480 with 1 Axes>"
      ]
     },
     "metadata": {},
     "output_type": "display_data"
    }
   ],
   "source": [
    "# your code and solution\n",
    "sns.set()  # use Seaborn styles\n",
    "evalDF.pivot_table(index=\"Model\").plot(kind='bar')"
   ]
  },
  {
   "cell_type": "markdown",
   "id": "edc75c28",
   "metadata": {},
   "source": [
    "## Conclusion\n",
    "\n",
    "By obersiving the metrics currently, it is found out that Case 1 Model A got the better metric for against 3 other cases. This basically means that Case 1 Model A proves that the feature selected are better compare to using the least correlated feature for the training. However, comparing it to the Case 2 Model A, the Case 2 Model A performed poorly in general observation of unforseen data. This may due to the fact that we tested to a relatively low test set. If we try to perform the same performance test using the Case 1 Model A test set, we could see the following:"
   ]
  },
  {
   "cell_type": "code",
   "execution_count": 20,
   "id": "f3e95b70",
   "metadata": {},
   "outputs": [
    {
     "data": {
      "text/html": [
       "<div>\n",
       "<style scoped>\n",
       "    .dataframe tbody tr th:only-of-type {\n",
       "        vertical-align: middle;\n",
       "    }\n",
       "\n",
       "    .dataframe tbody tr th {\n",
       "        vertical-align: top;\n",
       "    }\n",
       "\n",
       "    .dataframe thead th {\n",
       "        text-align: right;\n",
       "    }\n",
       "</style>\n",
       "<table border=\"1\" class=\"dataframe\">\n",
       "  <thead>\n",
       "    <tr style=\"text-align: right;\">\n",
       "      <th></th>\n",
       "      <th>Model</th>\n",
       "      <th>MAE</th>\n",
       "      <th>MSE</th>\n",
       "      <th>RME</th>\n",
       "    </tr>\n",
       "  </thead>\n",
       "  <tbody>\n",
       "    <tr>\n",
       "      <th>0</th>\n",
       "      <td>1A</td>\n",
       "      <td>1.124595</td>\n",
       "      <td>1.784589</td>\n",
       "      <td>1.335885</td>\n",
       "    </tr>\n",
       "    <tr>\n",
       "      <th>1</th>\n",
       "      <td>2A</td>\n",
       "      <td>1.118930</td>\n",
       "      <td>1.775917</td>\n",
       "      <td>1.332635</td>\n",
       "    </tr>\n",
       "  </tbody>\n",
       "</table>\n",
       "</div>"
      ],
      "text/plain": [
       "  Model       MAE       MSE       RME\n",
       "0    1A  1.124595  1.784589  1.335885\n",
       "1    2A  1.118930  1.775917  1.332635"
      ]
     },
     "execution_count": 20,
     "metadata": {},
     "output_type": "execute_result"
    }
   ],
   "source": [
    "#Case 2 - Model A\n",
    "x_train = case2TrainingData[['category','timestamp']].values\n",
    "y_train = case2TrainingData['rating'].values\n",
    "\n",
    "#check testing for model 1 case A\n",
    "x_test = case1TestingData[['category','timestamp']].values\n",
    "y_test = case1TestingData['rating'].values\n",
    "case2ModelA = regressor.fit(x_train, y_train)\n",
    "case2ModelAPrediction = case2ModelA.predict(x_test)\n",
    "score = case2ModelA.score(x_test, y_test)*100\n",
    "\n",
    "# Evaluation\n",
    "case2AMae = mean_absolute_error(y_test, case2ModelAPrediction)\n",
    "case2AMsE = mean_squared_error(y_test, case2ModelAPrediction)\n",
    "case2ARmse = np.sqrt(case2AMsE)\n",
    "data = {'Model' : ['1A', '2A'], 'MAE': [case1AMae, case2AMae], 'MSE' : [case1AMsE, case2AMsE], 'RME': [case1ARmse, case2ARmse]}\n",
    "compareC1AtoC2ADF = pd.DataFrame(data)\n",
    "compareC1AtoC2ADF"
   ]
  },
  {
   "cell_type": "code",
   "execution_count": 21,
   "id": "f2db14e0",
   "metadata": {},
   "outputs": [
    {
     "data": {
      "text/plain": [
       "<AxesSubplot:xlabel='Model'>"
      ]
     },
     "execution_count": 21,
     "metadata": {},
     "output_type": "execute_result"
    },
    {
     "data": {
      "image/png": "[encoded data removed]",
      "text/plain": [
       "<Figure size 640x480 with 1 Axes>"
      ]
     },
     "metadata": {},
     "output_type": "display_data"
    }
   ],
   "source": [
    "sns.set()  # use Seaborn styles\n",
    "compareC1AtoC2ADF.pivot_table(index=\"Model\").plot(kind='bar')"
   ]
  },
  {
   "cell_type": "markdown",
   "id": "971857a4",
   "metadata": {},
   "source": [
    "## Conclusion (cont.)\n",
    "\n",
    "As seen above, the Case 2 Model A performed marginally better than the Case 1 Model A. Although, this could also be consider a slight anomaly because the more likely, some of the records from the Case 1 Model A has been seen by the model during the training of the Case 2 Model A."
   ]
  }
 ],
 "metadata": {
  "kernelspec": {
   "display_name": "Python 3.8.13 ('big_data')",
   "language": "python",
   "name": "python3"
  },
  "language_info": {
   "codemirror_mode": {
    "name": "ipython",
    "version": 3
   },
   "file_extension": ".py",
   "mimetype": "text/x-python",
   "name": "python",
   "nbconvert_exporter": "python",
   "pygments_lexer": "ipython3",
   "version": "3.8.13"
  },
  "vscode": {
   "interpreter": {
    "hash": "bf0a4591c37d981292f94d1cf8016c64a629b87817954f07949f422ef2fb6acb"
   }
  }
 },
 "nbformat": 4,
 "nbformat_minor": 5
}
